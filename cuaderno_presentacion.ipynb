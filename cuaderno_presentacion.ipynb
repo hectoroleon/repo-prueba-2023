{
 "cells": [
  {
   "cell_type": "markdown",
   "id": "a8978e33",
   "metadata": {},
   "source": [
    "# Introducción \n",
    "\n",
    "[Wikipedia](https://www.wikipedia.org/)\n"
   ]
  },
  {
   "cell_type": "markdown",
   "id": "da501d2e",
   "metadata": {},
   "source": [
    "![imagen](https://d33wubrfki0l68.cloudfront.net/4ec62c1c925a380c912ddad740d18554c6822a11/fabe4/img/sponsors/iteso-university.png)"
   ]
  },
  {
   "cell_type": "markdown",
   "id": "6595fefc",
   "metadata": {},
   "source": [
    "1. Primer item\n",
    "2. Segundo\n",
    "3. Tercero\n",
    "\n",
    "+ Item no numerado\n",
    "- Segundo item no numerado"
   ]
  },
  {
   "cell_type": "markdown",
   "id": "a38663ab",
   "metadata": {},
   "source": [
    "```\n",
    "import pandas as pd\n",
    "import numpy as np\n",
    "import matplotlib.pyplot as plt\n",
    "```"
   ]
  }
 ],
 "metadata": {
  "kernelspec": {
   "display_name": "Python 3 (ipykernel)",
   "language": "python",
   "name": "python3"
  },
  "language_info": {
   "codemirror_mode": {
    "name": "ipython",
    "version": 3
   },
   "file_extension": ".py",
   "mimetype": "text/x-python",
   "name": "python",
   "nbconvert_exporter": "python",
   "pygments_lexer": "ipython3",
   "version": "3.9.7"
  }
 },
 "nbformat": 4,
 "nbformat_minor": 5
}
